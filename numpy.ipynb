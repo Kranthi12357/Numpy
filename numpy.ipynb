{
 "cells": [
  {
   "cell_type": "code",
   "execution_count": 2,
   "metadata": {},
   "outputs": [],
   "source": [
    "import numpy as np\n",
    "\n",
    "array = np.array([1,2,3,4])"
   ]
  },
  {
   "cell_type": "code",
   "execution_count": 3,
   "metadata": {},
   "outputs": [
    {
     "name": "stdout",
     "output_type": "stream",
     "text": [
      "[1 2 3 4]\n"
     ]
    }
   ],
   "source": [
    "print(array)"
   ]
  },
  {
   "cell_type": "code",
   "execution_count": 4,
   "metadata": {},
   "outputs": [
    {
     "name": "stdout",
     "output_type": "stream",
     "text": [
      "<class 'numpy.ndarray'>\n"
     ]
    }
   ],
   "source": [
    "print(type(array))"
   ]
  },
  {
   "cell_type": "code",
   "execution_count": 5,
   "metadata": {},
   "outputs": [
    {
     "data": {
      "text/plain": [
       "dtype('int32')"
      ]
     },
     "execution_count": 5,
     "metadata": {},
     "output_type": "execute_result"
    }
   ],
   "source": [
    "array.dtype\n"
   ]
  },
  {
   "cell_type": "code",
   "execution_count": 6,
   "metadata": {},
   "outputs": [
    {
     "name": "stdout",
     "output_type": "stream",
     "text": [
      "(4,)\n"
     ]
    }
   ],
   "source": [
    "print(array.shape)"
   ]
  },
  {
   "cell_type": "code",
   "execution_count": 7,
   "metadata": {},
   "outputs": [
    {
     "name": "stdout",
     "output_type": "stream",
     "text": [
      "4\n"
     ]
    }
   ],
   "source": [
    "print(array.size)"
   ]
  },
  {
   "cell_type": "code",
   "execution_count": 8,
   "metadata": {},
   "outputs": [
    {
     "name": "stdout",
     "output_type": "stream",
     "text": [
      "[[0 0 0]\n",
      " [0 0 0]]\n"
     ]
    }
   ],
   "source": [
    "zero = np.zeros((2,3),dtype = int)\n",
    "print(zero)"
   ]
  },
  {
   "cell_type": "code",
   "execution_count": 9,
   "metadata": {},
   "outputs": [
    {
     "data": {
      "text/plain": [
       "dtype('int32')"
      ]
     },
     "execution_count": 9,
     "metadata": {},
     "output_type": "execute_result"
    }
   ],
   "source": [
    "zero.dtype"
   ]
  },
  {
   "cell_type": "code",
   "execution_count": 10,
   "metadata": {},
   "outputs": [
    {
     "data": {
      "text/plain": [
       "dtype('int32')"
      ]
     },
     "execution_count": 10,
     "metadata": {},
     "output_type": "execute_result"
    }
   ],
   "source": [
    "ones = np.ones((4,3),dtype = int)\n",
    "ones.dtype"
   ]
  },
  {
   "cell_type": "code",
   "execution_count": 11,
   "metadata": {},
   "outputs": [
    {
     "name": "stdout",
     "output_type": "stream",
     "text": [
      "[[1 1 1]\n",
      " [1 1 1]\n",
      " [1 1 1]\n",
      " [1 1 1]]\n"
     ]
    }
   ],
   "source": [
    "print(ones)"
   ]
  },
  {
   "cell_type": "code",
   "execution_count": 12,
   "metadata": {},
   "outputs": [
    {
     "name": "stdout",
     "output_type": "stream",
     "text": [
      "[[5 5]\n",
      " [5 5]\n",
      " [5 5]\n",
      " [5 5]]\n"
     ]
    }
   ],
   "source": [
    "const = np.full((4,2),5)\n",
    "print(const)"
   ]
  },
  {
   "cell_type": "code",
   "execution_count": 13,
   "metadata": {},
   "outputs": [
    {
     "name": "stdout",
     "output_type": "stream",
     "text": [
      "[[1. 0. 0. 0. 0.]\n",
      " [0. 1. 0. 0. 0.]\n",
      " [0. 0. 1. 0. 0.]\n",
      " [0. 0. 0. 1. 0.]\n",
      " [0. 0. 0. 0. 1.]]\n"
     ]
    }
   ],
   "source": [
    "diag = np.eye(5)\n",
    "print(diag)"
   ]
  },
  {
   "cell_type": "code",
   "execution_count": 14,
   "metadata": {},
   "outputs": [
    {
     "name": "stdout",
     "output_type": "stream",
     "text": [
      "[[1 0 0]\n",
      " [0 2 0]\n",
      " [0 0 4]]\n"
     ]
    }
   ],
   "source": [
    "diag = np.diag([1,2,4])\n",
    "print(diag)"
   ]
  },
  {
   "cell_type": "code",
   "execution_count": 15,
   "metadata": {},
   "outputs": [
    {
     "name": "stdout",
     "output_type": "stream",
     "text": [
      "[0 1 2 3 4 5 6 7 8 9]\n"
     ]
    }
   ],
   "source": [
    "arrays = np.arange(10)\n",
    "print(arrays)"
   ]
  },
  {
   "cell_type": "code",
   "execution_count": 16,
   "metadata": {},
   "outputs": [
    {
     "name": "stdout",
     "output_type": "stream",
     "text": [
      "[4 5 6 7 8 9]\n"
     ]
    }
   ],
   "source": [
    "x = np.arange(4,10)\n",
    "print(x)"
   ]
  },
  {
   "cell_type": "code",
   "execution_count": 17,
   "metadata": {},
   "outputs": [
    {
     "name": "stdout",
     "output_type": "stream",
     "text": [
      "[0. 1. 2. 3. 4. 5. 6. 7. 8. 9.]\n"
     ]
    }
   ],
   "source": [
    "x = np.linspace(0,10,10,endpoint = False)\n",
    "print(x)"
   ]
  },
  {
   "cell_type": "code",
   "execution_count": 19,
   "metadata": {},
   "outputs": [
    {
     "name": "stdout",
     "output_type": "stream",
     "text": [
      "[[-1.77993672e-01 -2.05568137e-02 -5.28455867e-02  3.26079804e-02\n",
      "  -2.16953299e-01 -3.19803027e-03  6.91783768e-02  6.10054646e-02\n",
      "   3.30783637e-02 -8.02282599e-02]\n",
      " [-4.91728670e-02  1.92553013e-01 -3.13280590e-02 -2.77189074e-02\n",
      "  -1.40167632e-01 -4.49052386e-02  3.45210117e-02 -2.01003357e-01\n",
      "   4.99419155e-02  9.09135054e-03]\n",
      " [ 1.90084728e-01  7.63396997e-02 -1.90149623e-01 -1.69794807e-01\n",
      "  -1.35134516e-01  1.83805925e-01  9.40672015e-02  3.03205001e-01\n",
      "  -8.24287034e-02 -5.22442128e-02]\n",
      " [-2.83079085e-02  1.31629049e-01  9.37363982e-02  2.00145619e-02\n",
      "   2.38668485e-03  6.14022128e-02 -1.08523764e-01  8.15226932e-03\n",
      "  -2.08252333e-01  1.25697459e-01]\n",
      " [-8.94641268e-02  1.26110310e-02  3.43298168e-02  1.20570067e-01\n",
      "  -1.15043038e-02 -7.29872787e-02  2.02769428e-02 -8.21271447e-02\n",
      "   6.15974420e-04  2.23180802e-02]\n",
      " [ 5.06049841e-03 -3.56351275e-02 -3.12066531e-02 -4.76884026e-03\n",
      "   1.38724514e-01  6.95301560e-02  3.01909220e-02  5.20533631e-02\n",
      "   2.55193482e-02 -1.77197082e-02]\n",
      " [ 3.32487042e-02  1.77442576e-01 -1.43573253e-02  1.00175286e-01\n",
      "  -7.33218999e-02  9.99466477e-02 -1.66293860e-01  1.06210282e-04\n",
      "  -2.32169793e-01 -9.99606901e-03]\n",
      " [ 1.03668756e-01  6.90217247e-02  6.80521527e-02 -7.27752017e-02\n",
      "   5.79193609e-02  1.77142515e-02  1.67385455e-01 -7.48018173e-02\n",
      "   1.47205593e-02  4.24634618e-03]\n",
      " [-1.80966505e-01  6.38366354e-02  5.74902573e-02  1.12479093e-01\n",
      "   1.61432137e-01 -8.61740001e-02 -3.49657575e-02 -1.17122330e-01\n",
      "   9.11171939e-02  7.30259531e-02]\n",
      " [-1.82022887e-02 -5.48839168e-02 -9.58265767e-04 -8.17289923e-02\n",
      "   1.65487845e-01  1.58869972e-02  1.73574066e-01  3.65600361e-02\n",
      "  -1.11939161e-01 -3.99449630e-03]]\n"
     ]
    }
   ],
   "source": [
    "x = np.random.normal(0,0.1,size=(10,10))\n",
    "print(x)"
   ]
  },
  {
   "cell_type": "code",
   "execution_count": null,
   "metadata": {},
   "outputs": [],
   "source": []
  }
 ],
 "metadata": {
  "kernelspec": {
   "display_name": "Python 3",
   "language": "python",
   "name": "python3"
  },
  "language_info": {
   "codemirror_mode": {
    "name": "ipython",
    "version": 3
   },
   "file_extension": ".py",
   "mimetype": "text/x-python",
   "name": "python",
   "nbconvert_exporter": "python",
   "pygments_lexer": "ipython3",
   "version": "3.7.6"
  }
 },
 "nbformat": 4,
 "nbformat_minor": 4
}
